{
  "cells": [
    {
      "cell_type": "markdown",
      "metadata": {
        "id": "view-in-github",
        "colab_type": "text"
      },
      "source": [
        "<a href=\"https://colab.research.google.com/github/srpantano/LLM/blob/main/grafo_3_nos.ipynb\" target=\"_parent\"><img src=\"https://colab.research.google.com/assets/colab-badge.svg\" alt=\"Open In Colab\"/></a>"
      ]
    },
    {
      "cell_type": "markdown",
      "id": "50fa7f8a-8764-4bb9-9968-48b681a0e4f1",
      "metadata": {
        "id": "50fa7f8a-8764-4bb9-9968-48b681a0e4f1"
      },
      "source": [
        "# Vamos construir um grafo simples com 3 nós e uma aresta condicional.\"\n",
        "\n",
        "\n",
        "![Screenshot 2024-08-20 at 3.11.22 PM.png](https://cdn.prod.website-files.com/65b8cd72835ceeacd4449a53/66dba5f465f6e9a2482ad935_simple-graph1.png)"
      ]
    },
    {
      "cell_type": "code",
      "execution_count": 1,
      "id": "ff151ef1-fa30-482a-94da-8f49964afbc3",
      "metadata": {
        "id": "ff151ef1-fa30-482a-94da-8f49964afbc3"
      },
      "outputs": [],
      "source": [
        "%%capture --no-stderr\n",
        "%pip install --quiet -U langgraph"
      ]
    },
    {
      "cell_type": "markdown",
      "id": "5999f8d0-989f-4638-8ade-5c257cbadfe8",
      "metadata": {
        "id": "5999f8d0-989f-4638-8ade-5c257cbadfe8"
      },
      "source": [
        "## Estado\n",
        "\n",
        "Primeiro, defina o [Estado](https://langchain-ai.github.io/langgraph/concepts/low_level/#state) do grafo.\n",
        "\n",
        "O esquema do Estado serve como o esquema de entrada para todos os Nós e Arestas no grafo.\n",
        "\n",
        "Vamos usar a classe `TypedDict` do módulo `typing` do Python como nosso esquema, que fornece dicas de tipo para as chaves."
      ]
    },
    {
      "cell_type": "code",
      "execution_count": 2,
      "id": "6a90709b-ddfa-4671-8acc-c59969a29991",
      "metadata": {
        "id": "6a90709b-ddfa-4671-8acc-c59969a29991"
      },
      "outputs": [],
      "source": [
        "from typing_extensions import TypedDict\n",
        "\n",
        "class State(TypedDict):\n",
        "    graph_state: str"
      ]
    },
    {
      "cell_type": "markdown",
      "id": "888509e1-cbde-4c03-99a0-2560dd2e262d",
      "metadata": {
        "id": "888509e1-cbde-4c03-99a0-2560dd2e262d"
      },
      "source": [
        "\n",
        "## Nós\n",
        "\n",
        "[Nós](https://langchain-ai.github.io/langgraph/concepts/low_level/#nodes) são apenas funções Python.\n",
        "\n",
        "O primeiro argumento posicional é o estado, conforme definido acima.\n",
        "\n",
        "Como o estado é um `TypedDict` com o esquema definido acima, cada nó pode acessar a chave `graph_state` com `state['graph_state']`.\n",
        "\n",
        "Cada nó retorna um novo valor para a chave de estado `graph_state`.\n",
        "\n",
        "Por padrão, o novo valor retornado por cada nó [substituirá](https://langchain-ai.github.io/langgraph/concepts/low_level/#reducers) o valor do estado anterior."
      ]
    },
    {
      "cell_type": "code",
      "execution_count": 3,
      "id": "e8aabcb7-494c-4d35-be08-f81c76d75a6b",
      "metadata": {
        "id": "e8aabcb7-494c-4d35-be08-f81c76d75a6b"
      },
      "outputs": [],
      "source": [
        "def node_1(state):\n",
        "    print(\"---Node 1---\")\n",
        "    return {\"graph_state\": state['graph_state'] +\" Eu estou \"}\n",
        "\n",
        "def node_2(state):\n",
        "    print(\"---Node 2---\")\n",
        "    return {\"graph_state\": state['graph_state'] +\" cansado!\"}\n",
        "\n",
        "def node_3(state):\n",
        "    print(\"---Node 3---\")\n",
        "    return {\"graph_state\": state['graph_state'] +\" descansado!\"}"
      ]
    },
    {
      "cell_type": "markdown",
      "id": "ad056608-8c8f-4999-bb53-10583efa4ed8",
      "metadata": {
        "id": "ad056608-8c8f-4999-bb53-10583efa4ed8"
      },
      "source": [
        "## Arestas\n",
        "\n",
        "[Arestas](https://langchain-ai.github.io/langgraph/concepts/low_level/#edges) conectam os nós.\n",
        "\n",
        "Arestas Normais são usadas quando você quer *sempre* ir de, por exemplo, `node_1` para `node_2`.\n",
        "\n",
        "[Arestas Condicionais](https://langchain-ai.github.io/langgraph/reference/graphs/?h=conditional+edge#langgraph.graph.StateGraph.add_conditional_edges) são usadas quando você quer rotear *opcionalmente* entre nós.\n",
        "\n",
        "Arestas condicionais são implementadas como funções que retornam o próximo nó a ser visitado com base em alguma lógica."
      ]
    },
    {
      "cell_type": "code",
      "execution_count": 4,
      "id": "7e53543a-902a-4d41-ad3d-25eee260e819",
      "metadata": {
        "id": "7e53543a-902a-4d41-ad3d-25eee260e819"
      },
      "outputs": [],
      "source": [
        "import random\n",
        "from typing import Literal\n",
        "\n",
        "def decide_mood(state) -> Literal[\"node_2\", \"node_3\"]:\n",
        "\n",
        "    # Frequentemente, usaremos o estado para decidir o próximo nó a ser visitado\n",
        "    user_input = state['graph_state']\n",
        "\n",
        "    # Aqui, vamos fazer uma divisão de 50/50 entre os nós 2, 3\n",
        "    if random.random() < 0.5:\n",
        "\n",
        "        # 50% das vezes, retornamos o nó 2\n",
        "        return \"node_2\"\n",
        "\n",
        "    # 50% das vezes, retornamos o nó 3\n",
        "    return \"node_3\""
      ]
    },
    {
      "cell_type": "markdown",
      "id": "9282ea7a-5ed2-4641-bed8-c3472d54c951",
      "metadata": {
        "id": "9282ea7a-5ed2-4641-bed8-c3472d54c951"
      },
      "source": [
        "Agora, vamos construir o grafo a partir dos nossos [componentes](\n",
        "https://langchain-ai.github.io/langgraph/concepts/low_level/) definidos acima.\n",
        "\n",
        "A [classe StateGraph](https://langchain-ai.github.io/langgraph/concepts/low_level/#stategraph) é a classe de grafo que podemos usar.\n",
        "\n",
        "Primeiro, inicializamos um StateGraph com a classe `State` que definimos acima.\n",
        "\n",
        "Em seguida, adicionamos nossos nós e arestas.\n",
        "\n",
        "Usamos o [Nó `START`, um nó especial](https://langchain-ai.github.io/langgraph/concepts/low_level/#start-node) que envia a entrada do usuário para o grafo, para indicar onde começar nosso grafo.\n",
        "\n",
        "O [Nó `END`](https://langchain-ai.github.io/langgraph/concepts/low_level/#end-node) é um nó especial que representa um nó terminal.\n",
        "\n",
        "Por fim, [compilamos nosso grafo](https://langchain-ai.github.io/langgraph/concepts/low_level/#compiling-your-graph) para realizar algumas verificações básicas na estrutura do grafo.\n",
        "\n",
        "Podemos visualizar o grafo como um [diagrama Mermaid](https://github.com/mermaid-js/mermaid)."
      ]
    },
    {
      "cell_type": "code",
      "execution_count": 5,
      "id": "7deb0359-55c1-4545-b52e-8252994befbb",
      "metadata": {
        "colab": {
          "base_uri": "https://localhost:8080/",
          "height": 350
        },
        "id": "7deb0359-55c1-4545-b52e-8252994befbb",
        "outputId": "f5f7fd97-fdcd-42f8-f8e3-1c8c7d64027e"
      },
      "outputs": [
        {
          "output_type": "display_data",
          "data": {
            "image/png": "[encoded data removed]",
            "text/plain": [
              "<IPython.core.display.Image object>"
            ]
          },
          "metadata": {}
        }
      ],
      "source": [
        "from IPython.display import Image, display\n",
        "from langgraph.graph import StateGraph, START, END\n",
        "\n",
        "# Construindo o grafo\n",
        "builder = StateGraph(State)\n",
        "builder.add_node(\"node_1\", node_1)\n",
        "builder.add_node(\"node_2\", node_2)\n",
        "builder.add_node(\"node_3\", node_3)\n",
        "\n",
        "# Logica\n",
        "builder.add_edge(START, \"node_1\")\n",
        "builder.add_conditional_edges(\"node_1\", decide_mood)\n",
        "builder.add_edge(\"node_2\", END)\n",
        "builder.add_edge(\"node_3\", END)\n",
        "\n",
        "\n",
        "# Compila o grafo\n",
        "graph = builder.compile()\n",
        "\n",
        "# Visualiza o grafo\n",
        "display(Image(graph.get_graph().draw_mermaid_png()))"
      ]
    },
    {
      "cell_type": "markdown",
      "id": "00617c74-2647-44ea-8a2e-310dd96c0d26",
      "metadata": {
        "id": "00617c74-2647-44ea-8a2e-310dd96c0d26"
      },
      "source": [
        "## Invocação do Grafo\n",
        "\n",
        "O grafo compilado implementa o protocolo [runnable](https://python.langchain.com/v0.1/docs/expression_language/interface/).\n",
        "\n",
        "Isso fornece uma maneira padrão de executar componentes LangChain.\n",
        "\n",
        "`invoke` é um dos métodos padrão nesta interface.\n",
        "\n",
        "A entrada é um dicionário `{\"graph_state\": \"Olá, aqui é o Sergio.\"}`, que define o valor inicial para o nosso dicionário de estado do grafo.\n",
        "\n",
        "Quando `invoke` é chamado, o grafo inicia a execução a partir do nó `START`.\n",
        "\n",
        "Ele progride através dos nós definidos (`node_1`, `node_2`, `node_3`) em ordem.\n",
        "\n",
        "A aresta condicional atravessará do nó `1` para o nó `2` ou `3` usando uma regra de decisão 50/50.\n",
        "\n",
        "Cada função de nó recebe o estado atual e retorna um novo valor, que substitui o estado do grafo.\n",
        "\n",
        "A execução continua até atingir o nó `END`."
      ]
    },
    {
      "cell_type": "code",
      "execution_count": 7,
      "id": "e895f17a-e835-4e8a-8e1b-63fe6d27cc52",
      "metadata": {
        "colab": {
          "base_uri": "https://localhost:8080/"
        },
        "id": "e895f17a-e835-4e8a-8e1b-63fe6d27cc52",
        "outputId": "05eab484-a92b-4d10-e395-32efde31eef6"
      },
      "outputs": [
        {
          "output_type": "stream",
          "name": "stdout",
          "text": [
            "---Node 1---\n",
            "---Node 3---\n"
          ]
        },
        {
          "output_type": "execute_result",
          "data": {
            "text/plain": [
              "{'graph_state': 'Ola, sou eu, Sergio. Eu estou  descansado!'}"
            ]
          },
          "metadata": {},
          "execution_count": 7
        }
      ],
      "source": [
        "graph.invoke({\"graph_state\" : \"Ola, sou eu, Sergio.\"})"
      ]
    },
    {
      "cell_type": "markdown",
      "id": "082399c3-18bd-4b67-97c1-2005f268abc5",
      "metadata": {
        "id": "082399c3-18bd-4b67-97c1-2005f268abc5"
      },
      "source": [
        "`invoke` executa o grafo inteiro de forma síncrona.\n",
        "\n",
        "Isso espera que cada etapa seja concluída antes de passar para a próxima.\n",
        "\n",
        "Ele retorna o estado final do grafo após todos os nós terem sido executados.\n",
        "\n",
        "Neste caso, ele retorna o estado após `node_3` ter sido concluído:\n",
        "\n",
        "```\n",
        "{'graph_state': 'Ola, sou eu, Sergio. Eu estou  cansado!'}\n",
        "```"
      ]
    },
    {
      "cell_type": "code",
      "execution_count": null,
      "id": "db16ab8d-b817-4f3a-befc-a02b579c4fca",
      "metadata": {
        "id": "db16ab8d-b817-4f3a-befc-a02b579c4fca"
      },
      "outputs": [],
      "source": []
    },
    {
      "cell_type": "code",
      "execution_count": null,
      "id": "d9df7713",
      "metadata": {
        "id": "d9df7713"
      },
      "outputs": [],
      "source": []
    }
  ],
  "metadata": {
    "kernelspec": {
      "display_name": "Python 3 (ipykernel)",
      "language": "python",
      "name": "python3"
    },
    "language_info": {
      "codemirror_mode": {
        "name": "ipython",
        "version": 3
      },
      "file_extension": ".py",
      "mimetype": "text/x-python",
      "name": "python",
      "nbconvert_exporter": "python",
      "pygments_lexer": "ipython3",
      "version": "3.12.5"
    },
    "colab": {
      "provenance": [],
      "include_colab_link": true
    }
  },
  "nbformat": 4,
  "nbformat_minor": 5
}